{
 "cells": [
  {
   "cell_type": "code",
   "execution_count": 1,
   "id": "b8260eee-8487-4332-b8e3-d3de192d67e4",
   "metadata": {},
   "outputs": [],
   "source": [
    "import torch\n",
    "from tqdm import tqdm\n",
    "import numpy as np\n",
    "import pandas as pd\n",
    "from matplotlib import pyplot as plt\n",
    "\n",
    "from collections import Counter, defaultdict\n",
    "from typing import Dict\n",
    "\n",
    "from allennlp.data.fields import TextField, LabelField, SequenceLabelField\n",
    "from allennlp.data.token_indexers import TokenIndexer, SingleIdTokenIndexer\n",
    "from allennlp.data.tokenizers import Token\n",
    "from allennlp.data.vocabulary import Vocabulary\n",
    "\n",
    "from allennlp.common import Params\n",
    "import json\n",
    "import _jsonnet\n",
    "\n",
    "from allennlp.data.dataset_readers import Conll2003DatasetReader"
   ]
  },
  {
   "cell_type": "code",
   "execution_count": 24,
   "id": "235747c9-8505-44bc-ad63-6750cd3fb3ae",
   "metadata": {},
   "outputs": [],
   "source": [
    "# config_path = './configs/bilstm_crf.jsonnet'\n",
    "config_path = './configs/common.libsonnet'\n",
    "configs = Params.from_file(config_path)\n",
    "train_path = './data/eng.train'\n",
    "valid_path = './data/eng.testa'\n",
    "# config_str = {\n",
    "#     \"type\": \"conll2003\",\n",
    "#     \"tag_label\": \"ner\",\n",
    "#     \"coding_scheme\": \"BIOUL\",\n",
    "#     \"token_indexers\": {\n",
    "#       \"tokens\": {\n",
    "#         \"type\": \"single_id\",\n",
    "#         \"lowercase_tokens\": True,\n",
    "#       },\n",
    "#       \"token_characters\": {\n",
    "#         \"type\": \"characters\",\n",
    "#         \"min_padding_length\": 3,\n",
    "#       }\n",
    "#     }\n",
    "#    }"
   ]
  },
  {
   "cell_type": "code",
   "execution_count": 25,
   "id": "0f616294-03a0-4c97-b7eb-c102a0717344",
   "metadata": {},
   "outputs": [],
   "source": [
    "# config_params = Params(config_str)\n",
    "dataset_reader = Conll2003DatasetReader.from_params(params=configs)"
   ]
  },
  {
   "cell_type": "code",
   "execution_count": 26,
   "id": "b83764b9-c58c-414e-9f1d-a53baee8071e",
   "metadata": {},
   "outputs": [],
   "source": [
    "val_data = list(dataset_reader.read(valid_path))"
   ]
  },
  {
   "cell_type": "code",
   "execution_count": 41,
   "id": "948eccd3-946f-405a-947a-7965460a43e2",
   "metadata": {},
   "outputs": [],
   "source": [
    "dataset_reader.apply_token_indexers(val_data[0])"
   ]
  },
  {
   "cell_type": "code",
   "execution_count": 57,
   "id": "c893a5e5-eac7-4993-aea8-d10be93df203",
   "metadata": {},
   "outputs": [
    {
     "name": "stdout",
     "output_type": "stream",
     "text": [
      "TextField of length 11 with text: \n",
      " \t\t[CRICKET, -, LEICESTERSHIRE, TAKE, OVER, AT, TOP, AFTER, INNINGS, VICTORY, .]\n",
      " \t\tand TokenIndexers : {'tokens': 'SingleIdTokenIndexer'}\n"
     ]
    },
    {
     "data": {
      "text/plain": [
       "(None, allennlp.data.fields.text_field.TextField)"
      ]
     },
     "execution_count": 57,
     "metadata": {},
     "output_type": "execute_result"
    }
   ],
   "source": [
    "print(val_data[0].fields['tokens']), type(val_data[0].fields['tokens'])"
   ]
  },
  {
   "cell_type": "code",
   "execution_count": 28,
   "id": "3a2f3cf3-3c4a-4d65-9818-981a7ca79b21",
   "metadata": {},
   "outputs": [
    {
     "name": "stdout",
     "output_type": "stream",
     "text": [
      "Instance with fields:\n",
      " \t tokens: TextField of length 11 with text: \n",
      " \t\t[CRICKET, -, LEICESTERSHIRE, TAKE, OVER, AT, TOP, AFTER, INNINGS, VICTORY, .]\n",
      " \t\tand TokenIndexers : {'tokens': 'SingleIdTokenIndexer'} \n",
      " \t metadata: MetadataField (print field.metadata to see specific information). \n",
      " \t tags: SequenceLabelField of length 11 with labels:\n",
      " \t\t['O', 'O', 'I-ORG', 'O', 'O', 'O', 'O', 'O', 'O', 'O', 'O']\n",
      " \t\tin namespace: 'labels'. \n",
      "\n"
     ]
    }
   ],
   "source": [
    "print(val_data[0])"
   ]
  },
  {
   "cell_type": "code",
   "execution_count": 69,
   "id": "4b15893a-d767-4273-9419-644ea32e21d6",
   "metadata": {},
   "outputs": [],
   "source": [
    "dataset_reader.apply_token_indexers(val_data[0])"
   ]
  },
  {
   "cell_type": "code",
   "execution_count": 70,
   "id": "a305e163-d582-438d-8564-c6d090632cdb",
   "metadata": {},
   "outputs": [
    {
     "name": "stdout",
     "output_type": "stream",
     "text": [
      "Instance with fields:\n",
      " \t tokens: TextField of length 11 with text: \n",
      " \t\t[CRICKET, -, LEICESTERSHIRE, TAKE, OVER, AT, TOP, AFTER, INNINGS, VICTORY, .]\n",
      " \t\tand TokenIndexers : {'tokens': 'SingleIdTokenIndexer'} \n",
      " \t metadata: MetadataField (print field.metadata to see specific information). \n",
      " \t tags: SequenceLabelField of length 11 with labels:\n",
      " \t\t['O', 'O', 'I-ORG', 'O', 'O', 'O', 'O', 'O', 'O', 'O', 'O']\n",
      " \t\tin namespace: 'labels'. \n",
      "\n"
     ]
    }
   ],
   "source": [
    "print(val_data[0])"
   ]
  },
  {
   "cell_type": "code",
   "execution_count": 58,
   "id": "2871ca07-a54a-4f53-8c92-294a2e0b853b",
   "metadata": {},
   "outputs": [
    {
     "data": {
      "text/plain": [
       "array([[0., 0.]])"
      ]
     },
     "execution_count": 58,
     "metadata": {},
     "output_type": "execute_result"
    }
   ],
   "source": [
    "np.zeros((1,2))"
   ]
  },
  {
   "cell_type": "code",
   "execution_count": null,
   "id": "698d58ec-b7e1-4a55-ab21-0d9302346c2c",
   "metadata": {},
   "outputs": [],
   "source": []
  }
 ],
 "metadata": {
  "kernelspec": {
   "display_name": "Python base",
   "language": "python",
   "name": "base"
  },
  "language_info": {
   "codemirror_mode": {
    "name": "ipython",
    "version": 3
   },
   "file_extension": ".py",
   "mimetype": "text/x-python",
   "name": "python",
   "nbconvert_exporter": "python",
   "pygments_lexer": "ipython3",
   "version": "3.7.3"
  },
  "widgets": {
   "application/vnd.jupyter.widget-state+json": {
    "state": {},
    "version_major": 2,
    "version_minor": 0
   }
  }
 },
 "nbformat": 4,
 "nbformat_minor": 5
}
